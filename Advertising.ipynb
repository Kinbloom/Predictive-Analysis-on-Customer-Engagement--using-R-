{
 "cells": [
  {
   "cell_type": "code",
   "execution_count": 41,
   "metadata": {},
   "outputs": [
    {
     "data": {
      "text/html": [
       "<table>\n",
       "<thead><tr><th scope=col>Daily.Time.Spent.on.Site</th><th scope=col>Age</th><th scope=col>Area.Income</th><th scope=col>Daily.Internet.Usage</th><th scope=col>Ad.Topic.Line</th><th scope=col>City</th><th scope=col>Male</th><th scope=col>Country</th><th scope=col>Timestamp</th><th scope=col>Clicked.on.Ad</th></tr></thead>\n",
       "<tbody>\n",
       "\t<tr><td>68.95                                </td><td>35                                   </td><td>61833.90                             </td><td>256.09                               </td><td>Cloned 5thgeneration orchestration   </td><td>Wrightburgh                          </td><td>0                                    </td><td>Tunisia                              </td><td>2016-03-27 00:53:11                  </td><td>0                                    </td></tr>\n",
       "\t<tr><td>80.23                                </td><td>31                                   </td><td>68441.85                             </td><td>193.77                               </td><td>Monitored national standardization   </td><td>West Jodi                            </td><td>1                                    </td><td>Nauru                                </td><td>2016-04-04 01:39:02                  </td><td>0                                    </td></tr>\n",
       "\t<tr><td>69.47                                </td><td>26                                   </td><td>59785.94                             </td><td>236.50                               </td><td>Organic bottom-line service-desk     </td><td>Davidton                             </td><td>0                                    </td><td>San Marino                           </td><td>2016-03-13 20:35:42                  </td><td>0                                    </td></tr>\n",
       "\t<tr><td>74.15                                </td><td>29                                   </td><td>54806.18                             </td><td>245.89                               </td><td>Triple-buffered reciprocal time-frame</td><td>West Terrifurt                       </td><td>1                                    </td><td>Italy                                </td><td>2016-01-10 02:31:19                  </td><td>0                                    </td></tr>\n",
       "\t<tr><td>68.37                                </td><td>35                                   </td><td>73889.99                             </td><td>225.58                               </td><td>Robust logistical utilization        </td><td>South Manuel                         </td><td>0                                    </td><td>Iceland                              </td><td>2016-06-03 03:36:18                  </td><td>0                                    </td></tr>\n",
       "\t<tr><td>59.99                                </td><td>23                                   </td><td>59761.56                             </td><td>226.74                               </td><td>Sharable client-driven software      </td><td>Jamieberg                            </td><td>1                                    </td><td>Norway                               </td><td>2016-05-19 14:30:17                  </td><td>0                                    </td></tr>\n",
       "\t<tr><td>88.91                                </td><td>33                                   </td><td>53852.85                             </td><td>208.36                               </td><td>Enhanced dedicated support           </td><td>Brandonstad                          </td><td>0                                    </td><td>Myanmar                              </td><td>2016-01-28 20:59:32                  </td><td>0                                    </td></tr>\n",
       "\t<tr><td>66.00                                </td><td>48                                   </td><td>24593.33                             </td><td>131.76                               </td><td>Reactive local challenge             </td><td>Port Jefferybury                     </td><td>1                                    </td><td>Australia                            </td><td>2016-03-07 01:40:15                  </td><td>1                                    </td></tr>\n",
       "\t<tr><td>74.53                                </td><td>30                                   </td><td>68862.00                             </td><td>221.51                               </td><td>Configurable coherent function       </td><td>West Colin                           </td><td>1                                    </td><td>Grenada                              </td><td>2016-04-18 09:33:42                  </td><td>0                                    </td></tr>\n",
       "\t<tr><td>69.88                                </td><td>20                                   </td><td>55642.32                             </td><td>183.82                               </td><td>Mandatory homogeneous architecture   </td><td>Ramirezton                           </td><td>1                                    </td><td>Ghana                                </td><td>2016-07-11 01:42:51                  </td><td>0                                    </td></tr>\n",
       "</tbody>\n",
       "</table>\n"
      ],
      "text/latex": [
       "\\begin{tabular}{r|llllllllll}\n",
       " Daily.Time.Spent.on.Site & Age & Area.Income & Daily.Internet.Usage & Ad.Topic.Line & City & Male & Country & Timestamp & Clicked.on.Ad\\\\\n",
       "\\hline\n",
       "\t 68.95                                 & 35                                    & 61833.90                              & 256.09                                & Cloned 5thgeneration orchestration    & Wrightburgh                           & 0                                     & Tunisia                               & 2016-03-27 00:53:11                   & 0                                    \\\\\n",
       "\t 80.23                                 & 31                                    & 68441.85                              & 193.77                                & Monitored national standardization    & West Jodi                             & 1                                     & Nauru                                 & 2016-04-04 01:39:02                   & 0                                    \\\\\n",
       "\t 69.47                                 & 26                                    & 59785.94                              & 236.50                                & Organic bottom-line service-desk      & Davidton                              & 0                                     & San Marino                            & 2016-03-13 20:35:42                   & 0                                    \\\\\n",
       "\t 74.15                                 & 29                                    & 54806.18                              & 245.89                                & Triple-buffered reciprocal time-frame & West Terrifurt                        & 1                                     & Italy                                 & 2016-01-10 02:31:19                   & 0                                    \\\\\n",
       "\t 68.37                                 & 35                                    & 73889.99                              & 225.58                                & Robust logistical utilization         & South Manuel                          & 0                                     & Iceland                               & 2016-06-03 03:36:18                   & 0                                    \\\\\n",
       "\t 59.99                                 & 23                                    & 59761.56                              & 226.74                                & Sharable client-driven software       & Jamieberg                             & 1                                     & Norway                                & 2016-05-19 14:30:17                   & 0                                    \\\\\n",
       "\t 88.91                                 & 33                                    & 53852.85                              & 208.36                                & Enhanced dedicated support            & Brandonstad                           & 0                                     & Myanmar                               & 2016-01-28 20:59:32                   & 0                                    \\\\\n",
       "\t 66.00                                 & 48                                    & 24593.33                              & 131.76                                & Reactive local challenge              & Port Jefferybury                      & 1                                     & Australia                             & 2016-03-07 01:40:15                   & 1                                    \\\\\n",
       "\t 74.53                                 & 30                                    & 68862.00                              & 221.51                                & Configurable coherent function        & West Colin                            & 1                                     & Grenada                               & 2016-04-18 09:33:42                   & 0                                    \\\\\n",
       "\t 69.88                                 & 20                                    & 55642.32                              & 183.82                                & Mandatory homogeneous architecture    & Ramirezton                            & 1                                     & Ghana                                 & 2016-07-11 01:42:51                   & 0                                    \\\\\n",
       "\\end{tabular}\n"
      ],
      "text/markdown": [
       "\n",
       "| Daily.Time.Spent.on.Site | Age | Area.Income | Daily.Internet.Usage | Ad.Topic.Line | City | Male | Country | Timestamp | Clicked.on.Ad |\n",
       "|---|---|---|---|---|---|---|---|---|---|\n",
       "| 68.95                                 | 35                                    | 61833.90                              | 256.09                                | Cloned 5thgeneration orchestration    | Wrightburgh                           | 0                                     | Tunisia                               | 2016-03-27 00:53:11                   | 0                                     |\n",
       "| 80.23                                 | 31                                    | 68441.85                              | 193.77                                | Monitored national standardization    | West Jodi                             | 1                                     | Nauru                                 | 2016-04-04 01:39:02                   | 0                                     |\n",
       "| 69.47                                 | 26                                    | 59785.94                              | 236.50                                | Organic bottom-line service-desk      | Davidton                              | 0                                     | San Marino                            | 2016-03-13 20:35:42                   | 0                                     |\n",
       "| 74.15                                 | 29                                    | 54806.18                              | 245.89                                | Triple-buffered reciprocal time-frame | West Terrifurt                        | 1                                     | Italy                                 | 2016-01-10 02:31:19                   | 0                                     |\n",
       "| 68.37                                 | 35                                    | 73889.99                              | 225.58                                | Robust logistical utilization         | South Manuel                          | 0                                     | Iceland                               | 2016-06-03 03:36:18                   | 0                                     |\n",
       "| 59.99                                 | 23                                    | 59761.56                              | 226.74                                | Sharable client-driven software       | Jamieberg                             | 1                                     | Norway                                | 2016-05-19 14:30:17                   | 0                                     |\n",
       "| 88.91                                 | 33                                    | 53852.85                              | 208.36                                | Enhanced dedicated support            | Brandonstad                           | 0                                     | Myanmar                               | 2016-01-28 20:59:32                   | 0                                     |\n",
       "| 66.00                                 | 48                                    | 24593.33                              | 131.76                                | Reactive local challenge              | Port Jefferybury                      | 1                                     | Australia                             | 2016-03-07 01:40:15                   | 1                                     |\n",
       "| 74.53                                 | 30                                    | 68862.00                              | 221.51                                | Configurable coherent function        | West Colin                            | 1                                     | Grenada                               | 2016-04-18 09:33:42                   | 0                                     |\n",
       "| 69.88                                 | 20                                    | 55642.32                              | 183.82                                | Mandatory homogeneous architecture    | Ramirezton                            | 1                                     | Ghana                                 | 2016-07-11 01:42:51                   | 0                                     |\n",
       "\n"
      ],
      "text/plain": [
       "   Daily.Time.Spent.on.Site Age Area.Income Daily.Internet.Usage\n",
       "1  68.95                    35  61833.90    256.09              \n",
       "2  80.23                    31  68441.85    193.77              \n",
       "3  69.47                    26  59785.94    236.50              \n",
       "4  74.15                    29  54806.18    245.89              \n",
       "5  68.37                    35  73889.99    225.58              \n",
       "6  59.99                    23  59761.56    226.74              \n",
       "7  88.91                    33  53852.85    208.36              \n",
       "8  66.00                    48  24593.33    131.76              \n",
       "9  74.53                    30  68862.00    221.51              \n",
       "10 69.88                    20  55642.32    183.82              \n",
       "   Ad.Topic.Line                         City             Male Country   \n",
       "1  Cloned 5thgeneration orchestration    Wrightburgh      0    Tunisia   \n",
       "2  Monitored national standardization    West Jodi        1    Nauru     \n",
       "3  Organic bottom-line service-desk      Davidton         0    San Marino\n",
       "4  Triple-buffered reciprocal time-frame West Terrifurt   1    Italy     \n",
       "5  Robust logistical utilization         South Manuel     0    Iceland   \n",
       "6  Sharable client-driven software       Jamieberg        1    Norway    \n",
       "7  Enhanced dedicated support            Brandonstad      0    Myanmar   \n",
       "8  Reactive local challenge              Port Jefferybury 1    Australia \n",
       "9  Configurable coherent function        West Colin       1    Grenada   \n",
       "10 Mandatory homogeneous architecture    Ramirezton       1    Ghana     \n",
       "   Timestamp           Clicked.on.Ad\n",
       "1  2016-03-27 00:53:11 0            \n",
       "2  2016-04-04 01:39:02 0            \n",
       "3  2016-03-13 20:35:42 0            \n",
       "4  2016-01-10 02:31:19 0            \n",
       "5  2016-06-03 03:36:18 0            \n",
       "6  2016-05-19 14:30:17 0            \n",
       "7  2016-01-28 20:59:32 0            \n",
       "8  2016-03-07 01:40:15 1            \n",
       "9  2016-04-18 09:33:42 0            \n",
       "10 2016-07-11 01:42:51 0            "
      ]
     },
     "metadata": {},
     "output_type": "display_data"
    }
   ],
   "source": [
    "#load the Advertising Data\n",
    "\n",
    "advertising = read.csv(\"advertising.csv\", header=T)\n",
    "\n",
    "head(advertising,10)"
   ]
  },
  {
   "cell_type": "markdown",
   "metadata": {},
   "source": [
    "##Data Cleaning"
   ]
  },
  {
   "cell_type": "code",
   "execution_count": 6,
   "metadata": {},
   "outputs": [
    {
     "data": {
      "text/html": [
       "<dl class=dl-horizontal>\n",
       "\t<dt>Daily.Time.Spent.on.Site</dt>\n",
       "\t\t<dd>0</dd>\n",
       "\t<dt>Age</dt>\n",
       "\t\t<dd>0</dd>\n",
       "\t<dt>Area.Income</dt>\n",
       "\t\t<dd>0</dd>\n",
       "\t<dt>Daily.Internet.Usage</dt>\n",
       "\t\t<dd>0</dd>\n",
       "\t<dt>Ad.Topic.Line</dt>\n",
       "\t\t<dd>0</dd>\n",
       "\t<dt>City</dt>\n",
       "\t\t<dd>0</dd>\n",
       "\t<dt>Male</dt>\n",
       "\t\t<dd>0</dd>\n",
       "\t<dt>Country</dt>\n",
       "\t\t<dd>0</dd>\n",
       "\t<dt>Timestamp</dt>\n",
       "\t\t<dd>0</dd>\n",
       "\t<dt>Clicked.on.Ad</dt>\n",
       "\t\t<dd>0</dd>\n",
       "</dl>\n"
      ],
      "text/latex": [
       "\\begin{description*}\n",
       "\\item[Daily.Time.Spent.on.Site] 0\n",
       "\\item[Age] 0\n",
       "\\item[Area.Income] 0\n",
       "\\item[Daily.Internet.Usage] 0\n",
       "\\item[Ad.Topic.Line] 0\n",
       "\\item[City] 0\n",
       "\\item[Male] 0\n",
       "\\item[Country] 0\n",
       "\\item[Timestamp] 0\n",
       "\\item[Clicked.on.Ad] 0\n",
       "\\end{description*}\n"
      ],
      "text/markdown": [
       "Daily.Time.Spent.on.Site\n",
       ":   0Age\n",
       ":   0Area.Income\n",
       ":   0Daily.Internet.Usage\n",
       ":   0Ad.Topic.Line\n",
       ":   0City\n",
       ":   0Male\n",
       ":   0Country\n",
       ":   0Timestamp\n",
       ":   0Clicked.on.Ad\n",
       ":   0\n",
       "\n"
      ],
      "text/plain": [
       "Daily.Time.Spent.on.Site                      Age              Area.Income \n",
       "                       0                        0                        0 \n",
       "    Daily.Internet.Usage            Ad.Topic.Line                     City \n",
       "                       0                        0                        0 \n",
       "                    Male                  Country                Timestamp \n",
       "                       0                        0                        0 \n",
       "           Clicked.on.Ad \n",
       "                       0 "
      ]
     },
     "metadata": {},
     "output_type": "display_data"
    }
   ],
   "source": [
    "#Identify missing values in the dataset\n",
    "\n",
    "colSums(is.na(advertising))"
   ]
  },
  {
   "cell_type": "markdown",
   "metadata": {},
   "source": [
    "There seems to be no missing values in the advertising dataset."
   ]
  },
  {
   "cell_type": "code",
   "execution_count": 8,
   "metadata": {},
   "outputs": [
    {
     "data": {
      "text/html": [
       "<table>\n",
       "<thead><tr><th scope=col>Daily.Time.Spent.on.Site</th><th scope=col>Age</th><th scope=col>Area.Income</th><th scope=col>Daily.Internet.Usage</th><th scope=col>Ad.Topic.Line</th><th scope=col>City</th><th scope=col>Male</th><th scope=col>Country</th><th scope=col>Timestamp</th><th scope=col>Clicked.on.Ad</th></tr></thead>\n",
       "<tbody>\n",
       "</tbody>\n",
       "</table>\n"
      ],
      "text/latex": [
       "\\begin{tabular}{r|llllllllll}\n",
       " Daily.Time.Spent.on.Site & Age & Area.Income & Daily.Internet.Usage & Ad.Topic.Line & City & Male & Country & Timestamp & Clicked.on.Ad\\\\\n",
       "\\hline\n",
       "\\end{tabular}\n"
      ],
      "text/markdown": [
       "\n",
       "| Daily.Time.Spent.on.Site | Age | Area.Income | Daily.Internet.Usage | Ad.Topic.Line | City | Male | Country | Timestamp | Clicked.on.Ad |\n",
       "|---|---|---|---|---|---|---|---|---|---|\n",
       "\n"
      ],
      "text/plain": [
       "     Daily.Time.Spent.on.Site Age Area.Income Daily.Internet.Usage\n",
       "     Ad.Topic.Line City Male Country Timestamp Clicked.on.Ad"
      ]
     },
     "metadata": {},
     "output_type": "display_data"
    }
   ],
   "source": [
    "#Find the duplicated rows in the dataset\n",
    "\n",
    "duplicated_rows = advertising[duplicated(advertising),]\n",
    "\n",
    "duplicated_rows"
   ]
  },
  {
   "cell_type": "markdown",
   "metadata": {},
   "source": [
    "There seems to be no duplicate values in the dataset"
   ]
  },
  {
   "cell_type": "code",
   "execution_count": 9,
   "metadata": {},
   "outputs": [
    {
     "data": {
      "image/png": "[encoded data removed]",
      "text/plain": [
       "plot without title"
      ]
     },
     "metadata": {},
     "output_type": "display_data"
    }
   ],
   "source": [
    "#Screen for Outliers using a boxplot\n",
    "\n",
    "boxplot(advertising)"
   ]
  },
  {
   "cell_type": "code",
   "execution_count": 11,
   "metadata": {},
   "outputs": [
    {
     "data": {
      "text/html": [
       "<ol class=list-inline>\n",
       "\t<li>17709.98</li>\n",
       "\t<li>18819.34</li>\n",
       "\t<li>15598.29</li>\n",
       "\t<li>15879.1</li>\n",
       "\t<li>14548.06</li>\n",
       "\t<li>13996.5</li>\n",
       "\t<li>14775.5</li>\n",
       "\t<li>18368.57</li>\n",
       "</ol>\n"
      ],
      "text/latex": [
       "\\begin{enumerate*}\n",
       "\\item 17709.98\n",
       "\\item 18819.34\n",
       "\\item 15598.29\n",
       "\\item 15879.1\n",
       "\\item 14548.06\n",
       "\\item 13996.5\n",
       "\\item 14775.5\n",
       "\\item 18368.57\n",
       "\\end{enumerate*}\n"
      ],
      "text/markdown": [
       "1. 17709.98\n",
       "2. 18819.34\n",
       "3. 15598.29\n",
       "4. 15879.1\n",
       "5. 14548.06\n",
       "6. 13996.5\n",
       "7. 14775.5\n",
       "8. 18368.57\n",
       "\n",
       "\n"
      ],
      "text/plain": [
       "[1] 17709.98 18819.34 15598.29 15879.10 14548.06 13996.50 14775.50 18368.57"
      ]
     },
     "metadata": {},
     "output_type": "display_data"
    }
   ],
   "source": [
    "#List the outliers in the Area Income column\n",
    "\n",
    "boxplot.stats(advertising$Area.Income)$out"
   ]
  },
  {
   "cell_type": "markdown",
   "metadata": {},
   "source": [
    "The outliers listed in the Area Income column are out of the average threshold however the entries can't be assumed to not be authentic. I chose not to drop the outliers."
   ]
  },
  {
   "cell_type": "markdown",
   "metadata": {},
   "source": [
    "##Univariate Exploratory Data Analysis"
   ]
  },
  {
   "cell_type": "code",
   "execution_count": 20,
   "metadata": {},
   "outputs": [],
   "source": [
    "#Measures of Central Tendency\n",
    "#Find the mean,median and mode"
   ]
  },
  {
   "cell_type": "code",
   "execution_count": 44,
   "metadata": {},
   "outputs": [
    {
     "name": "stdout",
     "output_type": "stream",
     "text": [
      "[1] The mean of the Daily Time Spent on the site:\n"
     ]
    },
    {
     "data": {
      "text/html": [
       "65.0002"
      ],
      "text/latex": [
       "65.0002"
      ],
      "text/markdown": [
       "65.0002"
      ],
      "text/plain": [
       "[1] 65.0002"
      ]
     },
     "metadata": {},
     "output_type": "display_data"
    },
    {
     "name": "stdout",
     "output_type": "stream",
     "text": [
      "[1] The mean of the Age:\n"
     ]
    },
    {
     "data": {
      "text/html": [
       "36.009"
      ],
      "text/latex": [
       "36.009"
      ],
      "text/markdown": [
       "36.009"
      ],
      "text/plain": [
       "[1] 36.009"
      ]
     },
     "metadata": {},
     "output_type": "display_data"
    },
    {
     "name": "stdout",
     "output_type": "stream",
     "text": [
      "[1] The mean of the Area Income:\n"
     ]
    },
    {
     "data": {
      "text/html": [
       "55000.00008"
      ],
      "text/latex": [
       "55000.00008"
      ],
      "text/markdown": [
       "55000.00008"
      ],
      "text/plain": [
       "[1] 55000"
      ]
     },
     "metadata": {},
     "output_type": "display_data"
    },
    {
     "name": "stdout",
     "output_type": "stream",
     "text": [
      "[1] The mean of the Daily Internet Usage:\n"
     ]
    },
    {
     "data": {
      "text/html": [
       "180.0001"
      ],
      "text/latex": [
       "180.0001"
      ],
      "text/markdown": [
       "180.0001"
      ],
      "text/plain": [
       "[1] 180.0001"
      ]
     },
     "metadata": {},
     "output_type": "display_data"
    }
   ],
   "source": [
    "#Find the mean of the different columns in the dataset\n",
    "\n",
    "DailyTime.mean = mean(advertising$Daily.Time.Spent.on.Site)\n",
    "Age.mean = mean(advertising$Age)\n",
    "AreaIncome.mean = mean(advertising$Area.Income)\n",
    "DailyInternet.mean = mean(advertising$Daily.Internet.Usage)\n",
    "\n",
    "print(\"The mean of the Daily Time Spent on the site:\",quote=FALSE)\n",
    "DailyTime.mean\n",
    "print(\"The mean of the Age:\",quote=FALSE)\n",
    "Age.mean\n",
    "print(\"The mean of the Area Income:\",quote=FALSE)\n",
    "AreaIncome.mean\n",
    "print(\"The mean of the Daily Internet Usage:\",quote=FALSE)\n",
    "DailyInternet.mean"
   ]
  },
  {
   "cell_type": "code",
   "execution_count": 45,
   "metadata": {},
   "outputs": [
    {
     "name": "stdout",
     "output_type": "stream",
     "text": [
      "[1] The median of the Daily Time spent on the site:\n"
     ]
    },
    {
     "data": {
      "text/html": [
       "68.215"
      ],
      "text/latex": [
       "68.215"
      ],
      "text/markdown": [
       "68.215"
      ],
      "text/plain": [
       "[1] 68.215"
      ]
     },
     "metadata": {},
     "output_type": "display_data"
    },
    {
     "name": "stdout",
     "output_type": "stream",
     "text": [
      "[1] The median of the Age:\n"
     ]
    },
    {
     "data": {
      "text/html": [
       "35"
      ],
      "text/latex": [
       "35"
      ],
      "text/markdown": [
       "35"
      ],
      "text/plain": [
       "[1] 35"
      ]
     },
     "metadata": {},
     "output_type": "display_data"
    },
    {
     "name": "stdout",
     "output_type": "stream",
     "text": [
      "[1] The median of the Area Income:\n"
     ]
    },
    {
     "data": {
      "text/html": [
       "57012.3"
      ],
      "text/latex": [
       "57012.3"
      ],
      "text/markdown": [
       "57012.3"
      ],
      "text/plain": [
       "[1] 57012.3"
      ]
     },
     "metadata": {},
     "output_type": "display_data"
    },
    {
     "name": "stdout",
     "output_type": "stream",
     "text": [
      "[1] The median of the Daily Internet Usage:\n"
     ]
    },
    {
     "data": {
      "text/html": [
       "183.13"
      ],
      "text/latex": [
       "183.13"
      ],
      "text/markdown": [
       "183.13"
      ],
      "text/plain": [
       "[1] 183.13"
      ]
     },
     "metadata": {},
     "output_type": "display_data"
    }
   ],
   "source": [
    "#Find the median of the different columns in the dataset\n",
    "\n",
    "DailyTime.median = median(advertising$Daily.Time.Spent.on.Site)\n",
    "Age.median = median(advertising$Age)\n",
    "AreaIncome.median = median(advertising$Area.Income)\n",
    "DailyInternet.median = median(advertising$Daily.Internet.Usage)\n",
    "\n",
    "print(\"The median of the Daily Time spent on the site:\",quote=FALSE)\n",
    "DailyTime.median\n",
    "print(\"The median of the Age:\",quote=FALSE)\n",
    "Age.median\n",
    "print(\"The median of the Area Income:\",quote=FALSE)\n",
    "AreaIncome.median\n",
    "print(\"The median of the Daily Internet Usage:\",quote=FALSE)\n",
    "DailyInternet.median"
   ]
  },
  {
   "cell_type": "code",
   "execution_count": 46,
   "metadata": {},
   "outputs": [
    {
     "name": "stdout",
     "output_type": "stream",
     "text": [
      "[1] The mode of the Daily Time Spent on the Site:\n"
     ]
    },
    {
     "data": {
      "text/html": [
       "62.26"
      ],
      "text/latex": [
       "62.26"
      ],
      "text/markdown": [
       "62.26"
      ],
      "text/plain": [
       "[1] 62.26"
      ]
     },
     "metadata": {},
     "output_type": "display_data"
    },
    {
     "name": "stdout",
     "output_type": "stream",
     "text": [
      "[1] The mode of the Age:\n"
     ]
    },
    {
     "data": {
      "text/html": [
       "31"
      ],
      "text/latex": [
       "31"
      ],
      "text/markdown": [
       "31"
      ],
      "text/plain": [
       "[1] 31"
      ]
     },
     "metadata": {},
     "output_type": "display_data"
    },
    {
     "name": "stdout",
     "output_type": "stream",
     "text": [
      "[1] The mode of the Area Income:\n"
     ]
    },
    {
     "data": {
      "text/html": [
       "61833.9"
      ],
      "text/latex": [
       "61833.9"
      ],
      "text/markdown": [
       "61833.9"
      ],
      "text/plain": [
       "[1] 61833.9"
      ]
     },
     "metadata": {},
     "output_type": "display_data"
    },
    {
     "name": "stdout",
     "output_type": "stream",
     "text": [
      "[1] The mode of the Daily Internet Usage:\n"
     ]
    },
    {
     "data": {
      "text/html": [
       "167.22"
      ],
      "text/latex": [
       "167.22"
      ],
      "text/markdown": [
       "167.22"
      ],
      "text/plain": [
       "[1] 167.22"
      ]
     },
     "metadata": {},
     "output_type": "display_data"
    }
   ],
   "source": [
    "#Find the mode of the different columns in the dataset\n",
    "\n",
    "#Set the function to get the mode\n",
    "\n",
    "getmode <- function(v) {\n",
    "   uniqv <- unique(v)\n",
    "   uniqv[which.max(tabulate(match(v, uniqv)))]\n",
    "}\n",
    "\n",
    "DailyTime.mode = getmode(advertising$Daily.Time.Spent.on.Site)\n",
    "Age.mode = getmode(advertising$Age)\n",
    "AreaIncome.mode = getmode(advertising$Area.Income)\n",
    "DailyInternet.mode = getmode(advertising$Daily.Internet.Usage)\n",
    "\n",
    "print(\"The mode of the Daily Time Spent on the Site:\",quote=FALSE)\n",
    "DailyTime.mode\n",
    "print(\"The mode of the Age:\",quote=FALSE)\n",
    "Age.mode\n",
    "print(\"The mode of the Area Income:\",quote=FALSE)\n",
    "AreaIncome.mode\n",
    "print(\"The mode of the Daily Internet Usage:\",quote=FALSE)\n",
    "DailyInternet.mode"
   ]
  },
  {
   "cell_type": "code",
   "execution_count": null,
   "metadata": {},
   "outputs": [],
   "source": [
    "#Measures of Central Dispersion"
   ]
  },
  {
   "cell_type": "code",
   "execution_count": 48,
   "metadata": {},
   "outputs": [
    {
     "name": "stdout",
     "output_type": "stream",
     "text": [
      "[1] The minimum value of the Daily Time Spent on the Site:\n"
     ]
    },
    {
     "data": {
      "text/html": [
       "32.6"
      ],
      "text/latex": [
       "32.6"
      ],
      "text/markdown": [
       "32.6"
      ],
      "text/plain": [
       "[1] 32.6"
      ]
     },
     "metadata": {},
     "output_type": "display_data"
    },
    {
     "name": "stdout",
     "output_type": "stream",
     "text": [
      "[1] The minimum value of the Age:\n"
     ]
    },
    {
     "data": {
      "text/html": [
       "19"
      ],
      "text/latex": [
       "19"
      ],
      "text/markdown": [
       "19"
      ],
      "text/plain": [
       "[1] 19"
      ]
     },
     "metadata": {},
     "output_type": "display_data"
    },
    {
     "name": "stdout",
     "output_type": "stream",
     "text": [
      "[1] The minimum value of the Area Income\n"
     ]
    },
    {
     "data": {
      "text/html": [
       "13996.5"
      ],
      "text/latex": [
       "13996.5"
      ],
      "text/markdown": [
       "13996.5"
      ],
      "text/plain": [
       "[1] 13996.5"
      ]
     },
     "metadata": {},
     "output_type": "display_data"
    },
    {
     "name": "stdout",
     "output_type": "stream",
     "text": [
      "[1] The minimum value of the Daily Internet Usage:\n"
     ]
    },
    {
     "data": {
      "text/html": [
       "104.78"
      ],
      "text/latex": [
       "104.78"
      ],
      "text/markdown": [
       "104.78"
      ],
      "text/plain": [
       "[1] 104.78"
      ]
     },
     "metadata": {},
     "output_type": "display_data"
    }
   ],
   "source": [
    "#Find the minimum value of the different numerical columns in the dataset\n",
    "\n",
    "DailyTime.min = min(advertising$Daily.Time.Spent.on.Site)\n",
    "Age.min = min(advertising$Age)\n",
    "AreaIncome.min = min(advertising$Area.Income)\n",
    "DailyInternet.min = min(advertising$Daily.Internet.Usage)\n",
    "\n",
    "print(\"The minimum value of the Daily Time Spent on the Site:\",quote=FALSE)\n",
    "DailyTime.min\n",
    "print(\"The minimum value of the Age:\",quote=FALSE)\n",
    "Age.min\n",
    "print(\"The minimum value of the Area Income\",quote=FALSE)\n",
    "AreaIncome.min\n",
    "print(\"The minimum value of the Daily Internet Usage:\",quote=FALSE)\n",
    "DailyInternet.min"
   ]
  },
  {
   "cell_type": "code",
   "execution_count": 49,
   "metadata": {},
   "outputs": [
    {
     "name": "stdout",
     "output_type": "stream",
     "text": [
      "[1] The maximum value of the Daily Time Spent on the site:\n"
     ]
    },
    {
     "data": {
      "text/html": [
       "91.43"
      ],
      "text/latex": [
       "91.43"
      ],
      "text/markdown": [
       "91.43"
      ],
      "text/plain": [
       "[1] 91.43"
      ]
     },
     "metadata": {},
     "output_type": "display_data"
    },
    {
     "name": "stdout",
     "output_type": "stream",
     "text": [
      "[1] The maximum value of the Age:\n"
     ]
    },
    {
     "data": {
      "text/html": [
       "61"
      ],
      "text/latex": [
       "61"
      ],
      "text/markdown": [
       "61"
      ],
      "text/plain": [
       "[1] 61"
      ]
     },
     "metadata": {},
     "output_type": "display_data"
    },
    {
     "name": "stdout",
     "output_type": "stream",
     "text": [
      "[1] The maximum value of the Area Income:\n"
     ]
    },
    {
     "data": {
      "text/html": [
       "79484.8"
      ],
      "text/latex": [
       "79484.8"
      ],
      "text/markdown": [
       "79484.8"
      ],
      "text/plain": [
       "[1] 79484.8"
      ]
     },
     "metadata": {},
     "output_type": "display_data"
    },
    {
     "name": "stdout",
     "output_type": "stream",
     "text": [
      "[1] The maximum value of the Daily Internet Usage:\n"
     ]
    },
    {
     "data": {
      "text/html": [
       "269.96"
      ],
      "text/latex": [
       "269.96"
      ],
      "text/markdown": [
       "269.96"
      ],
      "text/plain": [
       "[1] 269.96"
      ]
     },
     "metadata": {},
     "output_type": "display_data"
    }
   ],
   "source": [
    "#Find the maximum value of the different numerical columns in the dataset\n",
    "\n",
    "DailyTime.max = max(advertising$Daily.Time.Spent.on.Site)\n",
    "Age.max = max(advertising$Age)\n",
    "AreaIncome.max = max(advertising$Area.Income)\n",
    "DailyInternet.max = max(advertising$Daily.Internet.Usage)\n",
    "\n",
    "print(\"The maximum value of the Daily Time Spent on the site:\",quote=FALSE)\n",
    "DailyTime.max\n",
    "print(\"The maximum value of the Age:\",quote=FALSE)\n",
    "Age.max\n",
    "print(\"The maximum value of the Area Income:\",quote=FALSE)\n",
    "AreaIncome.max\n",
    "print(\"The maximum value of the Daily Internet Usage:\",quote=FALSE)\n",
    "DailyInternet.max"
   ]
  },
  {
   "cell_type": "code",
   "execution_count": 50,
   "metadata": {},
   "outputs": [
    {
     "name": "stdout",
     "output_type": "stream",
     "text": [
      "[1] The range of the Daily Time spent on the site:\n"
     ]
    },
    {
     "data": {
      "text/html": [
       "<ol class=list-inline>\n",
       "\t<li>32.6</li>\n",
       "\t<li>91.43</li>\n",
       "</ol>\n"
      ],
      "text/latex": [
       "\\begin{enumerate*}\n",
       "\\item 32.6\n",
       "\\item 91.43\n",
       "\\end{enumerate*}\n"
      ],
      "text/markdown": [
       "1. 32.6\n",
       "2. 91.43\n",
       "\n",
       "\n"
      ],
      "text/plain": [
       "[1] 32.60 91.43"
      ]
     },
     "metadata": {},
     "output_type": "display_data"
    },
    {
     "name": "stdout",
     "output_type": "stream",
     "text": [
      "[1] The range of the Age:\n"
     ]
    },
    {
     "data": {
      "text/html": [
       "<ol class=list-inline>\n",
       "\t<li>19</li>\n",
       "\t<li>61</li>\n",
       "</ol>\n"
      ],
      "text/latex": [
       "\\begin{enumerate*}\n",
       "\\item 19\n",
       "\\item 61\n",
       "\\end{enumerate*}\n"
      ],
      "text/markdown": [
       "1. 19\n",
       "2. 61\n",
       "\n",
       "\n"
      ],
      "text/plain": [
       "[1] 19 61"
      ]
     },
     "metadata": {},
     "output_type": "display_data"
    },
    {
     "name": "stdout",
     "output_type": "stream",
     "text": [
      "[1] The range of the Area Income:\n"
     ]
    },
    {
     "data": {
      "text/html": [
       "<ol class=list-inline>\n",
       "\t<li>13996.5</li>\n",
       "\t<li>79484.8</li>\n",
       "</ol>\n"
      ],
      "text/latex": [
       "\\begin{enumerate*}\n",
       "\\item 13996.5\n",
       "\\item 79484.8\n",
       "\\end{enumerate*}\n"
      ],
      "text/markdown": [
       "1. 13996.5\n",
       "2. 79484.8\n",
       "\n",
       "\n"
      ],
      "text/plain": [
       "[1] 13996.5 79484.8"
      ]
     },
     "metadata": {},
     "output_type": "display_data"
    },
    {
     "name": "stdout",
     "output_type": "stream",
     "text": [
      "[1] The range of the Daily Internet Usage:\n"
     ]
    },
    {
     "data": {
      "text/html": [
       "<ol class=list-inline>\n",
       "\t<li>104.78</li>\n",
       "\t<li>269.96</li>\n",
       "</ol>\n"
      ],
      "text/latex": [
       "\\begin{enumerate*}\n",
       "\\item 104.78\n",
       "\\item 269.96\n",
       "\\end{enumerate*}\n"
      ],
      "text/markdown": [
       "1. 104.78\n",
       "2. 269.96\n",
       "\n",
       "\n"
      ],
      "text/plain": [
       "[1] 104.78 269.96"
      ]
     },
     "metadata": {},
     "output_type": "display_data"
    }
   ],
   "source": [
    "#Find the range in the numerical columns in the dataset\n",
    "\n",
    "DailyTime.range = range(advertising$Daily.Time.Spent.on.Site)\n",
    "Age.range = range(advertising$Age)\n",
    "AreaIncome.range = range(advertising$Area.Income)\n",
    "DailyInternet.range = range(advertising$Daily.Internet.Usage)\n",
    "\n",
    "print(\"The range of the Daily Time spent on the site:\",quote=FALSE)\n",
    "DailyTime.range\n",
    "print(\"The range of the Age:\",quote=FALSE)\n",
    "Age.range\n",
    "print(\"The range of the Area Income:\",quote=FALSE)\n",
    "AreaIncome.range\n",
    "print(\"The range of the Daily Internet Usage:\",quote=FALSE)\n",
    "DailyInternet.range"
   ]
  },
  {
   "cell_type": "code",
   "execution_count": 52,
   "metadata": {},
   "outputs": [
    {
     "name": "stdout",
     "output_type": "stream",
     "text": [
      "[1] The quantiles of the Daily Time Spent on the site:\n"
     ]
    },
    {
     "data": {
      "text/html": [
       "<dl class=dl-horizontal>\n",
       "\t<dt>0%</dt>\n",
       "\t\t<dd>32.6</dd>\n",
       "\t<dt>25%</dt>\n",
       "\t\t<dd>51.36</dd>\n",
       "\t<dt>50%</dt>\n",
       "\t\t<dd>68.215</dd>\n",
       "\t<dt>75%</dt>\n",
       "\t\t<dd>78.5475</dd>\n",
       "\t<dt>100%</dt>\n",
       "\t\t<dd>91.43</dd>\n",
       "</dl>\n"
      ],
      "text/latex": [
       "\\begin{description*}\n",
       "\\item[0\\textbackslash{}\\%] 32.6\n",
       "\\item[25\\textbackslash{}\\%] 51.36\n",
       "\\item[50\\textbackslash{}\\%] 68.215\n",
       "\\item[75\\textbackslash{}\\%] 78.5475\n",
       "\\item[100\\textbackslash{}\\%] 91.43\n",
       "\\end{description*}\n"
      ],
      "text/markdown": [
       "0%\n",
       ":   32.625%\n",
       ":   51.3650%\n",
       ":   68.21575%\n",
       ":   78.5475100%\n",
       ":   91.43\n",
       "\n"
      ],
      "text/plain": [
       "     0%     25%     50%     75%    100% \n",
       "32.6000 51.3600 68.2150 78.5475 91.4300 "
      ]
     },
     "metadata": {},
     "output_type": "display_data"
    },
    {
     "name": "stdout",
     "output_type": "stream",
     "text": [
      "[1] The quantiles of the Age:\n"
     ]
    },
    {
     "data": {
      "text/html": [
       "<dl class=dl-horizontal>\n",
       "\t<dt>0%</dt>\n",
       "\t\t<dd>19</dd>\n",
       "\t<dt>25%</dt>\n",
       "\t\t<dd>29</dd>\n",
       "\t<dt>50%</dt>\n",
       "\t\t<dd>35</dd>\n",
       "\t<dt>75%</dt>\n",
       "\t\t<dd>42</dd>\n",
       "\t<dt>100%</dt>\n",
       "\t\t<dd>61</dd>\n",
       "</dl>\n"
      ],
      "text/latex": [
       "\\begin{description*}\n",
       "\\item[0\\textbackslash{}\\%] 19\n",
       "\\item[25\\textbackslash{}\\%] 29\n",
       "\\item[50\\textbackslash{}\\%] 35\n",
       "\\item[75\\textbackslash{}\\%] 42\n",
       "\\item[100\\textbackslash{}\\%] 61\n",
       "\\end{description*}\n"
      ],
      "text/markdown": [
       "0%\n",
       ":   1925%\n",
       ":   2950%\n",
       ":   3575%\n",
       ":   42100%\n",
       ":   61\n",
       "\n"
      ],
      "text/plain": [
       "  0%  25%  50%  75% 100% \n",
       "  19   29   35   42   61 "
      ]
     },
     "metadata": {},
     "output_type": "display_data"
    },
    {
     "name": "stdout",
     "output_type": "stream",
     "text": [
      "[1] The quantiles of the Area Income:\n"
     ]
    },
    {
     "data": {
      "text/html": [
       "<dl class=dl-horizontal>\n",
       "\t<dt>0%</dt>\n",
       "\t\t<dd>13996.5</dd>\n",
       "\t<dt>25%</dt>\n",
       "\t\t<dd>47031.8025</dd>\n",
       "\t<dt>50%</dt>\n",
       "\t\t<dd>57012.3</dd>\n",
       "\t<dt>75%</dt>\n",
       "\t\t<dd>65470.635</dd>\n",
       "\t<dt>100%</dt>\n",
       "\t\t<dd>79484.8</dd>\n",
       "</dl>\n"
      ],
      "text/latex": [
       "\\begin{description*}\n",
       "\\item[0\\textbackslash{}\\%] 13996.5\n",
       "\\item[25\\textbackslash{}\\%] 47031.8025\n",
       "\\item[50\\textbackslash{}\\%] 57012.3\n",
       "\\item[75\\textbackslash{}\\%] 65470.635\n",
       "\\item[100\\textbackslash{}\\%] 79484.8\n",
       "\\end{description*}\n"
      ],
      "text/markdown": [
       "0%\n",
       ":   13996.525%\n",
       ":   47031.802550%\n",
       ":   57012.375%\n",
       ":   65470.635100%\n",
       ":   79484.8\n",
       "\n"
      ],
      "text/plain": [
       "      0%      25%      50%      75%     100% \n",
       "13996.50 47031.80 57012.30 65470.64 79484.80 "
      ]
     },
     "metadata": {},
     "output_type": "display_data"
    },
    {
     "name": "stdout",
     "output_type": "stream",
     "text": [
      "[1] The quantiles of the Daily Internet Usage:\n"
     ]
    },
    {
     "data": {
      "text/html": [
       "<dl class=dl-horizontal>\n",
       "\t<dt>0%</dt>\n",
       "\t\t<dd>104.78</dd>\n",
       "\t<dt>25%</dt>\n",
       "\t\t<dd>138.83</dd>\n",
       "\t<dt>50%</dt>\n",
       "\t\t<dd>183.13</dd>\n",
       "\t<dt>75%</dt>\n",
       "\t\t<dd>218.7925</dd>\n",
       "\t<dt>100%</dt>\n",
       "\t\t<dd>269.96</dd>\n",
       "</dl>\n"
      ],
      "text/latex": [
       "\\begin{description*}\n",
       "\\item[0\\textbackslash{}\\%] 104.78\n",
       "\\item[25\\textbackslash{}\\%] 138.83\n",
       "\\item[50\\textbackslash{}\\%] 183.13\n",
       "\\item[75\\textbackslash{}\\%] 218.7925\n",
       "\\item[100\\textbackslash{}\\%] 269.96\n",
       "\\end{description*}\n"
      ],
      "text/markdown": [
       "0%\n",
       ":   104.7825%\n",
       ":   138.8350%\n",
       ":   183.1375%\n",
       ":   218.7925100%\n",
       ":   269.96\n",
       "\n"
      ],
      "text/plain": [
       "      0%      25%      50%      75%     100% \n",
       "104.7800 138.8300 183.1300 218.7925 269.9600 "
      ]
     },
     "metadata": {},
     "output_type": "display_data"
    }
   ],
   "source": [
    "#Find the quantile in the numerical columns in the dataset\n",
    "\n",
    "DailyTime.quantile = quantile(advertising$Daily.Time.Spent.on.Site)\n",
    "Age.quantile = quantile(advertising$Age)\n",
    "AreaIncome.quantile = quantile(advertising$Area.Income)\n",
    "DailyInternet.quantile = quantile(advertising$Daily.Internet.Usage)\n",
    "\n",
    "print(\"The quantiles of the Daily Time Spent on the site:\",quote=FALSE)\n",
    "DailyTime.quantile\n",
    "print(\"The quantiles of the Age:\",quote=FALSE)\n",
    "Age.quantile\n",
    "print(\"The quantiles of the Area Income:\",quote=FALSE)\n",
    "AreaIncome.quantile\n",
    "print(\"The quantiles of the Daily Internet Usage:\",quote=FALSE)\n",
    "DailyInternet.quantile"
   ]
  },
  {
   "cell_type": "code",
   "execution_count": 53,
   "metadata": {},
   "outputs": [
    {
     "name": "stdout",
     "output_type": "stream",
     "text": [
      "[1] The variance of the Daily Time Spent on the Site:\n"
     ]
    },
    {
     "data": {
      "text/html": [
       "251.337094854855"
      ],
      "text/latex": [
       "251.337094854855"
      ],
      "text/markdown": [
       "251.337094854855"
      ],
      "text/plain": [
       "[1] 251.3371"
      ]
     },
     "metadata": {},
     "output_type": "display_data"
    },
    {
     "name": "stdout",
     "output_type": "stream",
     "text": [
      "[1] The variance of the Age:\n"
     ]
    },
    {
     "data": {
      "text/html": [
       "77.1861051051051"
      ],
      "text/latex": [
       "77.1861051051051"
      ],
      "text/markdown": [
       "77.1861051051051"
      ],
      "text/plain": [
       "[1] 77.18611"
      ]
     },
     "metadata": {},
     "output_type": "display_data"
    },
    {
     "name": "stdout",
     "output_type": "stream",
     "text": [
      "[1] The variance of the Area Income:\n"
     ]
    },
    {
     "data": {
      "text/html": [
       "179952405.951775"
      ],
      "text/latex": [
       "179952405.951775"
      ],
      "text/markdown": [
       "179952405.951775"
      ],
      "text/plain": [
       "[1] 179952406"
      ]
     },
     "metadata": {},
     "output_type": "display_data"
    },
    {
     "name": "stdout",
     "output_type": "stream",
     "text": [
      "[1] The variance of the Daily Internet Usage:\n"
     ]
    },
    {
     "data": {
      "text/html": [
       "1927.41539618619"
      ],
      "text/latex": [
       "1927.41539618619"
      ],
      "text/markdown": [
       "1927.41539618619"
      ],
      "text/plain": [
       "[1] 1927.415"
      ]
     },
     "metadata": {},
     "output_type": "display_data"
    }
   ],
   "source": [
    "#Find the variance in the numerical columns in the dataset\n",
    "\n",
    "DailyTime.variance = var(advertising$Daily.Time.Spent.on.Site)\n",
    "Age.variance = var(advertising$Age)\n",
    "AreaIncome.variance = var(advertising$Area.Income)\n",
    "DailyInternet.variance = var(advertising$Daily.Internet.Usage)\n",
    "\n",
    "print(\"The variance of the Daily Time Spent on the Site:\",quote=FALSE)\n",
    "DailyTime.variance\n",
    "print(\"The variance of the Age:\",quote=FALSE)\n",
    "Age.variance\n",
    "print(\"The variance of the Area Income:\",quote=FALSE)\n",
    "AreaIncome.variance\n",
    "print(\"The variance of the Daily Internet Usage:\",quote=FALSE)\n",
    "DailyInternet.variance"
   ]
  },
  {
   "cell_type": "code",
   "execution_count": 54,
   "metadata": {},
   "outputs": [
    {
     "name": "stdout",
     "output_type": "stream",
     "text": [
      "[1] The standard deviation of the Daily Time Usage:\n"
     ]
    },
    {
     "data": {
      "text/html": [
       "15.8536145675002"
      ],
      "text/latex": [
       "15.8536145675002"
      ],
      "text/markdown": [
       "15.8536145675002"
      ],
      "text/plain": [
       "[1] 15.85361"
      ]
     },
     "metadata": {},
     "output_type": "display_data"
    },
    {
     "name": "stdout",
     "output_type": "stream",
     "text": [
      "[1] The standard deviation of the Age:\n"
     ]
    },
    {
     "data": {
      "text/html": [
       "8.78556231012592"
      ],
      "text/latex": [
       "8.78556231012592"
      ],
      "text/markdown": [
       "8.78556231012592"
      ],
      "text/plain": [
       "[1] 8.785562"
      ]
     },
     "metadata": {},
     "output_type": "display_data"
    },
    {
     "name": "stdout",
     "output_type": "stream",
     "text": [
      "[1] The standard deviation of the Area Income:\n"
     ]
    },
    {
     "data": {
      "text/html": [
       "13414.6340222824"
      ],
      "text/latex": [
       "13414.6340222824"
      ],
      "text/markdown": [
       "13414.6340222824"
      ],
      "text/plain": [
       "[1] 13414.63"
      ]
     },
     "metadata": {},
     "output_type": "display_data"
    },
    {
     "name": "stdout",
     "output_type": "stream",
     "text": [
      "[1] The standard deviation of the Daily Internet Usage:\n"
     ]
    },
    {
     "data": {
      "text/html": [
       "43.9023393019801"
      ],
      "text/latex": [
       "43.9023393019801"
      ],
      "text/markdown": [
       "43.9023393019801"
      ],
      "text/plain": [
       "[1] 43.90234"
      ]
     },
     "metadata": {},
     "output_type": "display_data"
    }
   ],
   "source": [
    "#Find the standard deviation in the numerical columns in the dataset\n",
    "\n",
    "DailyTime.std = sd(advertising$Daily.Time.Spent.on.Site)\n",
    "Age.std = sd(advertising$Age)\n",
    "AreaIncome.std = sd(advertising$Area.Income)\n",
    "DailyInternet.std = sd(advertising$Daily.Internet.Usage)\n",
    "\n",
    "print(\"The standard deviation of the Daily Time Usage:\",quote=FALSE) \n",
    "DailyTime.std\n",
    "print(\"The standard deviation of the Age:\",quote=FALSE)\n",
    "Age.std\n",
    "print(\"The standard deviation of the Area Income:\",quote=FALSE)\n",
    "AreaIncome.std\n",
    "print(\"The standard deviation of the Daily Internet Usage:\",quote=FALSE)\n",
    "DailyInternet.std"
   ]
  },
  {
   "cell_type": "markdown",
   "metadata": {},
   "source": [
    "##Univariate Graphical Exploratory Data Analysis"
   ]
  },
  {
   "cell_type": "markdown",
   "metadata": {},
   "source": [
    "##Plot boxplots for each numerical column in the dataset"
   ]
  },
  {
   "cell_type": "code",
   "execution_count": 56,
   "metadata": {},
   "outputs": [
    {
     "data": {
      "image/png": "[encoded data removed]",
      "text/plain": [
       "plot without title"
      ]
     },
     "metadata": {},
     "output_type": "display_data"
    }
   ],
   "source": [
    "#Daily Time Spent on Site Boxplot\n",
    "\n",
    "boxplot(advertising$Daily.Time.Spent.on.Site)"
   ]
  },
  {
   "cell_type": "code",
   "execution_count": 57,
   "metadata": {},
   "outputs": [
    {
     "data": {
      "image/png": "[encoded data removed]",
      "text/plain": [
       "plot without title"
      ]
     },
     "metadata": {},
     "output_type": "display_data"
    }
   ],
   "source": [
    "#Age Boxplot\n",
    "\n",
    "boxplot(advertising$Age)"
   ]
  },
  {
   "cell_type": "code",
   "execution_count": 58,
   "metadata": {},
   "outputs": [
    {
     "data": {
      "image/png": "[encoded data removed]",
      "text/plain": [
       "plot without title"
      ]
     },
     "metadata": {},
     "output_type": "display_data"
    }
   ],
   "source": [
    "#Area Income Boxplot\n",
    "\n",
    "boxplot(advertising$Area.Income)"
   ]
  },
  {
   "cell_type": "code",
   "execution_count": 59,
   "metadata": {},
   "outputs": [
    {
     "data": {
      "image/png": "[encoded data removed]",
      "text/plain": [
       "plot without title"
      ]
     },
     "metadata": {},
     "output_type": "display_data"
    }
   ],
   "source": [
    "#Daily Internet Usage Boxplot\n",
    "\n",
    "boxplot(advertising$Daily.Internet.Usage)"
   ]
  },
  {
   "cell_type": "markdown",
   "metadata": {},
   "source": [
    "##Bar graphs of the numerical columns of the Advertising Dataset"
   ]
  },
  {
   "cell_type": "code",
   "execution_count": 63,
   "metadata": {},
   "outputs": [
    {
     "data": {
      "image/png": "[encoded data removed]",
      "text/plain": [
       "plot without title"
      ]
     },
     "metadata": {},
     "output_type": "display_data"
    }
   ],
   "source": [
    "#Bar Graph of the Daily Time Spent on the Site\n",
    "\n",
    "DailyTime = advertising$Daily.Time.Spent.on.Site\n",
    "\n",
    "DailyTime_frequency = table(DailyTime)\n",
    "\n",
    "barplot(DailyTime_frequency)"
   ]
  },
  {
   "cell_type": "code",
   "execution_count": 64,
   "metadata": {},
   "outputs": [
    {
     "data": {
      "image/png": "[encoded data removed]",
      "text/plain": [
       "plot without title"
      ]
     },
     "metadata": {},
     "output_type": "display_data"
    }
   ],
   "source": [
    "#Bar Graph for the Age column\n",
    "\n",
    "age = advertising$Age\n",
    "\n",
    "age_frequency = table(age)\n",
    "\n",
    "barplot(age_frequency)"
   ]
  },
  {
   "cell_type": "code",
   "execution_count": 62,
   "metadata": {},
   "outputs": [
    {
     "data": {
      "image/png": "[encoded data removed]",
      "text/plain": [
       "plot without title"
      ]
     },
     "metadata": {},
     "output_type": "display_data"
    }
   ],
   "source": [
    "#Bar Graph for the Area Income column\n",
    "\n",
    "AreaIncome = advertising$Area.Income\n",
    "\n",
    "AreaIncome_frequency = table(AreaIncome)\n",
    "\n",
    "barplot(AreaIncome_frequency)"
   ]
  },
  {
   "cell_type": "code",
   "execution_count": 65,
   "metadata": {},
   "outputs": [
    {
     "data": {
      "image/png": "[encoded data removed]",
      "text/plain": [
       "plot without title"
      ]
     },
     "metadata": {},
     "output_type": "display_data"
    }
   ],
   "source": [
    "#Bar Grpah for the Daily Internet Usage column\n",
    "\n",
    "DailyInternet = advertising$Daily.Internet.Usage\n",
    "\n",
    "DailyInternet_frequency = table(DailyInternet)\n",
    "\n",
    "barplot(DailyInternet_frequency)\n"
   ]
  },
  {
   "cell_type": "markdown",
   "metadata": {},
   "source": [
    "##Histogram for the Numerical Columns"
   ]
  },
  {
   "cell_type": "code",
   "execution_count": 66,
   "metadata": {},
   "outputs": [
    {
     "data": {
      "image/png": "[encoded data removed]",
      "text/plain": [
       "Plot with title \"Histogram of advertising$Daily.Time.Spent.on.Site\""
      ]
     },
     "metadata": {},
     "output_type": "display_data"
    }
   ],
   "source": [
    "#Histogram for the Daily Time Spent on the Site column\n",
    "\n",
    "hist(advertising$Daily.Time.Spent.on.Site)"
   ]
  },
  {
   "cell_type": "code",
   "execution_count": 67,
   "metadata": {},
   "outputs": [
    {
     "data": {
      "image/png": "[encoded data removed]",
      "text/plain": [
       "Plot with title \"Histogram of advertising$Age\""
      ]
     },
     "metadata": {},
     "output_type": "display_data"
    }
   ],
   "source": [
    "#Histogram for the Age column\n",
    "\n",
    "hist(advertising$Age)"
   ]
  },
  {
   "cell_type": "code",
   "execution_count": 68,
   "metadata": {},
   "outputs": [
    {
     "data": {
      "image/png": "[encoded data removed]",
      "text/plain": [
       "Plot with title \"Histogram of advertising$Area.Income\""
      ]
     },
     "metadata": {},
     "output_type": "display_data"
    }
   ],
   "source": [
    "#Histogram for the Area Income column\n",
    "\n",
    "hist(advertising$Area.Income)"
   ]
  },
  {
   "cell_type": "code",
   "execution_count": 69,
   "metadata": {},
   "outputs": [
    {
     "data": {
      "image/png": "[encoded data removed]",
      "text/plain": [
       "Plot with title \"Histogram of advertising$Daily.Internet.Usage\""
      ]
     },
     "metadata": {},
     "output_type": "display_data"
    }
   ],
   "source": [
    "#Histogram for the Daily Internet Usage column\n",
    "\n",
    "hist(advertising$Daily.Internet.Usage)"
   ]
  },
  {
   "cell_type": "markdown",
   "metadata": {},
   "source": [
    "##Bivariate and Multivariate Graphical Data Analysis"
   ]
  },
  {
   "cell_type": "code",
   "execution_count": 71,
   "metadata": {},
   "outputs": [
    {
     "name": "stdout",
     "output_type": "stream",
     "text": [
      "[1] The Covariance of the Daily Time Spent on Site and Daily Internet Usage:\n"
     ]
    },
    {
     "data": {
      "text/html": [
       "360.991882662663"
      ],
      "text/latex": [
       "360.991882662663"
      ],
      "text/markdown": [
       "360.991882662663"
      ],
      "text/plain": [
       "[1] 360.9919"
      ]
     },
     "metadata": {},
     "output_type": "display_data"
    }
   ],
   "source": [
    "#Find the covariance for the Daily Time Spent on Site and the Daily Internet Usage\n",
    "\n",
    "DailyTime = advertising$Daily.Time.Spent.on.Site\n",
    "\n",
    "DailyInternet = advertising$Daily.Internet.Usage\n",
    "\n",
    "print(\"The Covariance of the Daily Time Spent on Site and Daily Internet Usage:\",quote=FALSE)\n",
    "cov(DailyTime, DailyInternet)\n"
   ]
  },
  {
   "cell_type": "code",
   "execution_count": 80,
   "metadata": {},
   "outputs": [
    {
     "name": "stdout",
     "output_type": "stream",
     "text": [
      "[1] The correlation coefficient of the Daily Time Spent on Site and Daily Internet Usage:\n"
     ]
    },
    {
     "data": {
      "text/html": [
       "0.518658475337186"
      ],
      "text/latex": [
       "0.518658475337186"
      ],
      "text/markdown": [
       "0.518658475337186"
      ],
      "text/plain": [
       "[1] 0.5186585"
      ]
     },
     "metadata": {},
     "output_type": "display_data"
    }
   ],
   "source": [
    "#Find the correlation coefficient between the Daily Time Spent on Site and the Daily Internet Usage\n",
    "\n",
    "DailyTime = advertising$Daily.Time.Spent.on.Site\n",
    "\n",
    "DailyInternet = advertising$Daily.Internet.Usage\n",
    "\n",
    "print(\"The correlation coefficient of the Daily Time Spent on Site and Daily Internet Usage:\",quote=FALSE)\n",
    "cor(DailyTime, DailyInternet)\n"
   ]
  },
  {
   "cell_type": "code",
   "execution_count": 82,
   "metadata": {},
   "outputs": [
    {
     "data": {
      "image/png": "[encoded data removed]",
      "text/plain": [
       "plot without title"
      ]
     },
     "metadata": {},
     "output_type": "display_data"
    }
   ],
   "source": [
    "#Plot a scatterplot between the Daily Time and Daily Internet Usage\n",
    "\n",
    "DailyTime = advertising$Daily.Time.Spent.on.Site\n",
    "\n",
    "DailyInternet = advertising$Daily.Internet.Usage\n",
    " \n",
    "plot(DailyTime, DailyInternet, xlab=\"Daily Time Spent on Site\", ylab=\"Daily Internet Usage\")\n"
   ]
  },
  {
   "cell_type": "markdown",
   "metadata": {},
   "source": [
    "##Using a Neural Network to predict the likelihood of a user clicking on an ad"
   ]
  },
  {
   "cell_type": "code",
   "execution_count": null,
   "metadata": {},
   "outputs": [],
   "source": [
    "#Drop the columns in the advertising dataset\n",
    "\n",
    "advertising = subset(advertising, select = -c(Ad.Topic.Line,City,Country,Timestamp) )"
   ]
  },
  {
   "cell_type": "code",
   "execution_count": 87,
   "metadata": {},
   "outputs": [
    {
     "data": {
      "text/html": [
       "<table>\n",
       "<thead><tr><th scope=col>Daily.Time.Spent.on.Site</th><th scope=col>Age</th><th scope=col>Area.Income</th><th scope=col>Daily.Internet.Usage</th><th scope=col>Male</th><th scope=col>Clicked.on.Ad</th></tr></thead>\n",
       "<tbody>\n",
       "\t<tr><td>68.95   </td><td>35      </td><td>61833.90</td><td>256.09  </td><td>0       </td><td>0       </td></tr>\n",
       "\t<tr><td>80.23   </td><td>31      </td><td>68441.85</td><td>193.77  </td><td>1       </td><td>0       </td></tr>\n",
       "\t<tr><td>69.47   </td><td>26      </td><td>59785.94</td><td>236.50  </td><td>0       </td><td>0       </td></tr>\n",
       "\t<tr><td>74.15   </td><td>29      </td><td>54806.18</td><td>245.89  </td><td>1       </td><td>0       </td></tr>\n",
       "\t<tr><td>68.37   </td><td>35      </td><td>73889.99</td><td>225.58  </td><td>0       </td><td>0       </td></tr>\n",
       "\t<tr><td>59.99   </td><td>23      </td><td>59761.56</td><td>226.74  </td><td>1       </td><td>0       </td></tr>\n",
       "\t<tr><td>88.91   </td><td>33      </td><td>53852.85</td><td>208.36  </td><td>0       </td><td>0       </td></tr>\n",
       "\t<tr><td>66.00   </td><td>48      </td><td>24593.33</td><td>131.76  </td><td>1       </td><td>1       </td></tr>\n",
       "\t<tr><td>74.53   </td><td>30      </td><td>68862.00</td><td>221.51  </td><td>1       </td><td>0       </td></tr>\n",
       "\t<tr><td>69.88   </td><td>20      </td><td>55642.32</td><td>183.82  </td><td>1       </td><td>0       </td></tr>\n",
       "</tbody>\n",
       "</table>\n"
      ],
      "text/latex": [
       "\\begin{tabular}{r|llllll}\n",
       " Daily.Time.Spent.on.Site & Age & Area.Income & Daily.Internet.Usage & Male & Clicked.on.Ad\\\\\n",
       "\\hline\n",
       "\t 68.95    & 35       & 61833.90 & 256.09   & 0        & 0       \\\\\n",
       "\t 80.23    & 31       & 68441.85 & 193.77   & 1        & 0       \\\\\n",
       "\t 69.47    & 26       & 59785.94 & 236.50   & 0        & 0       \\\\\n",
       "\t 74.15    & 29       & 54806.18 & 245.89   & 1        & 0       \\\\\n",
       "\t 68.37    & 35       & 73889.99 & 225.58   & 0        & 0       \\\\\n",
       "\t 59.99    & 23       & 59761.56 & 226.74   & 1        & 0       \\\\\n",
       "\t 88.91    & 33       & 53852.85 & 208.36   & 0        & 0       \\\\\n",
       "\t 66.00    & 48       & 24593.33 & 131.76   & 1        & 1       \\\\\n",
       "\t 74.53    & 30       & 68862.00 & 221.51   & 1        & 0       \\\\\n",
       "\t 69.88    & 20       & 55642.32 & 183.82   & 1        & 0       \\\\\n",
       "\\end{tabular}\n"
      ],
      "text/markdown": [
       "\n",
       "| Daily.Time.Spent.on.Site | Age | Area.Income | Daily.Internet.Usage | Male | Clicked.on.Ad |\n",
       "|---|---|---|---|---|---|\n",
       "| 68.95    | 35       | 61833.90 | 256.09   | 0        | 0        |\n",
       "| 80.23    | 31       | 68441.85 | 193.77   | 1        | 0        |\n",
       "| 69.47    | 26       | 59785.94 | 236.50   | 0        | 0        |\n",
       "| 74.15    | 29       | 54806.18 | 245.89   | 1        | 0        |\n",
       "| 68.37    | 35       | 73889.99 | 225.58   | 0        | 0        |\n",
       "| 59.99    | 23       | 59761.56 | 226.74   | 1        | 0        |\n",
       "| 88.91    | 33       | 53852.85 | 208.36   | 0        | 0        |\n",
       "| 66.00    | 48       | 24593.33 | 131.76   | 1        | 1        |\n",
       "| 74.53    | 30       | 68862.00 | 221.51   | 1        | 0        |\n",
       "| 69.88    | 20       | 55642.32 | 183.82   | 1        | 0        |\n",
       "\n"
      ],
      "text/plain": [
       "   Daily.Time.Spent.on.Site Age Area.Income Daily.Internet.Usage Male\n",
       "1  68.95                    35  61833.90    256.09               0   \n",
       "2  80.23                    31  68441.85    193.77               1   \n",
       "3  69.47                    26  59785.94    236.50               0   \n",
       "4  74.15                    29  54806.18    245.89               1   \n",
       "5  68.37                    35  73889.99    225.58               0   \n",
       "6  59.99                    23  59761.56    226.74               1   \n",
       "7  88.91                    33  53852.85    208.36               0   \n",
       "8  66.00                    48  24593.33    131.76               1   \n",
       "9  74.53                    30  68862.00    221.51               1   \n",
       "10 69.88                    20  55642.32    183.82               1   \n",
       "   Clicked.on.Ad\n",
       "1  0            \n",
       "2  0            \n",
       "3  0            \n",
       "4  0            \n",
       "5  0            \n",
       "6  0            \n",
       "7  0            \n",
       "8  1            \n",
       "9  0            \n",
       "10 0            "
      ]
     },
     "metadata": {},
     "output_type": "display_data"
    }
   ],
   "source": [
    "head(advertising,10)"
   ]
  },
  {
   "cell_type": "code",
   "execution_count": 89,
   "metadata": {},
   "outputs": [],
   "source": [
    "#Scale the data frame automatically using the scale function in R\n",
    "\n",
    "scaleddata = scale(advertising)"
   ]
  },
  {
   "cell_type": "code",
   "execution_count": 94,
   "metadata": {},
   "outputs": [
    {
     "data": {
      "text/html": [
       "<table>\n",
       "<thead><tr><th scope=col>Daily.Time.Spent.on.Site</th><th scope=col>Age</th><th scope=col>Area.Income</th><th scope=col>Daily.Internet.Usage</th><th scope=col>Male</th><th scope=col>Clicked.on.Ad</th></tr></thead>\n",
       "<tbody>\n",
       "\t<tr><td>0.6178820</td><td>0.3809524</td><td>0.7304725</td><td>0.9160310</td><td>0        </td><td>0        </td></tr>\n",
       "\t<tr><td>0.8096209</td><td>0.2857143</td><td>0.8313752</td><td>0.5387456</td><td>1        </td><td>0        </td></tr>\n",
       "\t<tr><td>0.6267211</td><td>0.1666667</td><td>0.6992003</td><td>0.7974331</td><td>0        </td><td>0        </td></tr>\n",
       "\t<tr><td>0.7062723</td><td>0.2380952</td><td>0.6231599</td><td>0.8542802</td><td>1        </td><td>0        </td></tr>\n",
       "\t<tr><td>0.6080231</td><td>0.3809524</td><td>0.9145678</td><td>0.7313234</td><td>0        </td><td>0        </td></tr>\n",
       "\t<tr><td>0.4655788</td><td>0.0952381</td><td>0.6988280</td><td>0.7383460</td><td>1        </td><td>0        </td></tr>\n",
       "</tbody>\n",
       "</table>\n"
      ],
      "text/latex": [
       "\\begin{tabular}{r|llllll}\n",
       " Daily.Time.Spent.on.Site & Age & Area.Income & Daily.Internet.Usage & Male & Clicked.on.Ad\\\\\n",
       "\\hline\n",
       "\t 0.6178820 & 0.3809524 & 0.7304725 & 0.9160310 & 0         & 0        \\\\\n",
       "\t 0.8096209 & 0.2857143 & 0.8313752 & 0.5387456 & 1         & 0        \\\\\n",
       "\t 0.6267211 & 0.1666667 & 0.6992003 & 0.7974331 & 0         & 0        \\\\\n",
       "\t 0.7062723 & 0.2380952 & 0.6231599 & 0.8542802 & 1         & 0        \\\\\n",
       "\t 0.6080231 & 0.3809524 & 0.9145678 & 0.7313234 & 0         & 0        \\\\\n",
       "\t 0.4655788 & 0.0952381 & 0.6988280 & 0.7383460 & 1         & 0        \\\\\n",
       "\\end{tabular}\n"
      ],
      "text/markdown": [
       "\n",
       "| Daily.Time.Spent.on.Site | Age | Area.Income | Daily.Internet.Usage | Male | Clicked.on.Ad |\n",
       "|---|---|---|---|---|---|\n",
       "| 0.6178820 | 0.3809524 | 0.7304725 | 0.9160310 | 0         | 0         |\n",
       "| 0.8096209 | 0.2857143 | 0.8313752 | 0.5387456 | 1         | 0         |\n",
       "| 0.6267211 | 0.1666667 | 0.6992003 | 0.7974331 | 0         | 0         |\n",
       "| 0.7062723 | 0.2380952 | 0.6231599 | 0.8542802 | 1         | 0         |\n",
       "| 0.6080231 | 0.3809524 | 0.9145678 | 0.7313234 | 0         | 0         |\n",
       "| 0.4655788 | 0.0952381 | 0.6988280 | 0.7383460 | 1         | 0         |\n",
       "\n"
      ],
      "text/plain": [
       "  Daily.Time.Spent.on.Site Age       Area.Income Daily.Internet.Usage Male\n",
       "1 0.6178820                0.3809524 0.7304725   0.9160310            0   \n",
       "2 0.8096209                0.2857143 0.8313752   0.5387456            1   \n",
       "3 0.6267211                0.1666667 0.6992003   0.7974331            0   \n",
       "4 0.7062723                0.2380952 0.6231599   0.8542802            1   \n",
       "5 0.6080231                0.3809524 0.9145678   0.7313234            0   \n",
       "6 0.4655788                0.0952381 0.6988280   0.7383460            1   \n",
       "  Clicked.on.Ad\n",
       "1 0            \n",
       "2 0            \n",
       "3 0            \n",
       "4 0            \n",
       "5 0            \n",
       "6 0            "
      ]
     },
     "metadata": {},
     "output_type": "display_data"
    }
   ],
   "source": [
    "#Apply Max-Min Normalization\n",
    "\n",
    "normalize = function(x) {\n",
    "  return ((x - min(x)) / (max(x) - min(x)))\n",
    "}\n",
    "\n",
    "advertising.norm = as.data.frame(lapply(advertising, normalize))\n",
    "\n",
    "head(advertising.norm)"
   ]
  },
  {
   "cell_type": "code",
   "execution_count": 104,
   "metadata": {},
   "outputs": [],
   "source": [
    "library(randomForest)"
   ]
  },
  {
   "cell_type": "code",
   "execution_count": 106,
   "metadata": {},
   "outputs": [],
   "source": [
    "#Split into train and test set\n",
    "#Train : Test = 70:30 (random)\n",
    "\n",
    "set.seed(1000)\n",
    "train = sample(nrow(advertising.norm),0.7*nrow(advertising.norm),replace=FALSE)\n",
    "trainset = advertising.norm[train,]\n",
    "testset = advertising.norm[-train,]\n"
   ]
  },
  {
   "cell_type": "code",
   "execution_count": 113,
   "metadata": {},
   "outputs": [
    {
     "name": "stderr",
     "output_type": "stream",
     "text": [
      "Warning message in randomForest.default(m, y, ...):\n",
      "\"The response has five or fewer unique values.  Are you sure you want to do regression?\""
     ]
    }
   ],
   "source": [
    "#Create a random forest model with default parameters\n",
    "\n",
    "model = randomForest(Clicked.on.Ad~.,data = trainset)"
   ]
  },
  {
   "cell_type": "code",
   "execution_count": 124,
   "metadata": {},
   "outputs": [
    {
     "data": {
      "text/plain": [
       "   pred\n",
       "    0.0524912225646135 0.0526981486455872 0.0540685254886321 0.0540804343242814\n",
       "  0                  1                  1                  1                  1\n",
       "  1                  0                  0                  0                  0\n",
       "   pred\n",
       "    0.0544284585375744 0.0549774658557314 0.0551218862280609 0.0567255299125725\n",
       "  0                  1                  1                  1                  1\n",
       "  1                  0                  0                  0                  0\n",
       "   pred\n",
       "    0.0570661355480272 0.0571994891989907 0.0572867201609991 0.0573927287813922\n",
       "  0                  1                  1                  1                  1\n",
       "  1                  0                  0                  0                  0\n",
       "   pred\n",
       "    0.0576680200491093 0.0576901469690819 0.0579462235449694 0.0580816446053\n",
       "  0                  1                  1                  1               1\n",
       "  1                  0                  0                  0               0\n",
       "   pred\n",
       "    0.058184059057991 0.0585914570530278 0.0586510212099025 0.058926547938848\n",
       "  0                 1                  1                  1                 1\n",
       "  1                 0                  0                  0                 0\n",
       "   pred\n",
       "    0.0589969976812179 0.0591542957330109 0.0596513870269985 0.0601921052577467\n",
       "  0                  1                  1                  1                  1\n",
       "  1                  0                  0                  0                  0\n",
       "   pred\n",
       "    0.0605438709767109 0.060586344601411 0.0608774867484775 0.0609935496724031\n",
       "  0                  1                 1                  1                  1\n",
       "  1                  0                 0                  0                  0\n",
       "   pred\n",
       "    0.0617034923398154 0.0629080269730205 0.0629534580897316 0.0631824466046509\n",
       "  0                  1                  1                  1                  1\n",
       "  1                  0                  0                  0                  0\n",
       "   pred\n",
       "    0.0635080459007506 0.0641817040920537 0.0648452845614317 0.0656351960389994\n",
       "  0                  1                  1                  1                  1\n",
       "  1                  0                  0                  0                  0\n",
       "   pred\n",
       "    0.0658493398379119 0.0664574228388748 0.0664615178186587 0.0666466534771254\n",
       "  0                  1                  1                  1                  1\n",
       "  1                  0                  0                  0                  0\n",
       "   pred\n",
       "    0.0671360469686147 0.0672584040442153 0.0672657920897995 0.0683271206160289\n",
       "  0                  1                  1                  0                  1\n",
       "  1                  0                  0                  1                  0\n",
       "   pred\n",
       "    0.068597580942476 0.0687279146445392 0.068868075566635 0.0695206857730051\n",
       "  0                 1                  1                 1                  1\n",
       "  1                 0                  0                 0                  0\n",
       "   pred\n",
       "    0.0696197218847058 0.0707062107812116 0.0713822218847058 0.0722900584468457\n",
       "  0                  1                  1                  1                  1\n",
       "  1                  0                  0                  0                  0\n",
       "   pred\n",
       "    0.072409107323388 0.072576119708553 0.0736781457429982 0.074727750634681\n",
       "  0                 1                 1                  1                 1\n",
       "  1                 0                 0                  0                 0\n",
       "   pred\n",
       "    0.0754217244256743 0.0761113609903282 0.078429490703673 0.0784340852418531\n",
       "  0                  1                  1                 1                  1\n",
       "  1                  0                  0                 0                  0\n",
       "   pred\n",
       "    0.0786529197283864 0.0794330702175632 0.0800532054642308 0.0803958360968972\n",
       "  0                  1                  1                  1                  1\n",
       "  1                  0                  0                  0                  0\n",
       "   pred\n",
       "    0.0813967492813418 0.081724332592069 0.0828370503574347 0.0834610839680144\n",
       "  0                  1                 1                  1                  1\n",
       "  1                  0                 0                  0                  0\n",
       "   pred\n",
       "    0.0845127996762352 0.0858457951964944 0.0877924040652951 0.0892441792919367\n",
       "  0                  1                  1                  1                  1\n",
       "  1                  0                  0                  0                  0\n",
       "   pred\n",
       "    0.0893727619749416 0.089473123408701 0.090172011624789 0.0914387738584562\n",
       "  0                  1                 1                 1                  1\n",
       "  1                  0                 0                 0                  0\n",
       "   pred\n",
       "    0.0927452327470871 0.0931700951563308 0.0954822752283534 0.0955344662600466\n",
       "  0                  1                  0                  1                  1\n",
       "  1                  0                  1                  0                  0\n",
       "   pred\n",
       "    0.0961125361845596 0.0971018928586715 0.0989526632803759 0.0991829721494191\n",
       "  0                  1                  1                  1                  1\n",
       "  1                  0                  0                  0                  0\n",
       "   pred\n",
       "    0.10065145689167 0.100906831322872 0.106698439177576 0.109656628976494\n",
       "  0                1                 1                 1                 1\n",
       "  1                0                 0                 0                 0\n",
       "   pred\n",
       "    0.117894302124297 0.11882952964867 0.120367606502673 0.121618045650672\n",
       "  0                 1                0                 1                 1\n",
       "  1                 0                1                 0                 0\n",
       "   pred\n",
       "    0.12267399234278 0.127305371599731 0.128423682993622 0.131618295873517\n",
       "  0                1                 0                 1                 1\n",
       "  1                0                 1                 0                 0\n",
       "   pred\n",
       "    0.136207159342605 0.137312196016781 0.138968922587785 0.140480817068244\n",
       "  0                 1                 1                 1                 1\n",
       "  1                 0                 0                 0                 0\n",
       "   pred\n",
       "    0.141497242467746 0.142473756654294 0.143372344787905 0.143548607784288\n",
       "  0                 1                 1                 1                 1\n",
       "  1                 0                 0                 0                 0\n",
       "   pred\n",
       "    0.144798849812037 0.144903630417793 0.149061479889719 0.149267363133984\n",
       "  0                 1                 1                 1                 1\n",
       "  1                 0                 0                 0                 0\n",
       "   pred\n",
       "    0.153462359094618 0.16075983545043 0.169775225704871 0.185448036256981\n",
       "  0                 1                1                 1                 1\n",
       "  1                 0                0                 0                 0\n",
       "   pred\n",
       "    0.18608130347367 0.187990962345907 0.189907264651361 0.203920123498027\n",
       "  0                1                 1                 1                 1\n",
       "  1                0                 0                 0                 0\n",
       "   pred\n",
       "    0.206805997174246 0.206984762288318 0.207643695453368 0.208382189092285\n",
       "  0                 1                 1                 1                 1\n",
       "  1                 0                 0                 0                 0\n",
       "   pred\n",
       "    0.220344051034547 0.224025403493913 0.24188406288636 0.243889361551846\n",
       "  0                 1                 1                1                 1\n",
       "  1                 0                 0                0                 0\n",
       "   pred\n",
       "    0.249866439484865 0.254721902901706 0.260818325772965 0.263108757363359\n",
       "  0                 1                 1                 1                 1\n",
       "  1                 0                 0                 0                 0\n",
       "   pred\n",
       "    0.283954379564329 0.31030473636478 0.313011645023395 0.321713210255675\n",
       "  0                 1                1                 1                 1\n",
       "  1                 0                0                 0                 0\n",
       "   pred\n",
       "    0.338243773314121 0.342433656408126 0.345535832706385 0.348317572049332\n",
       "  0                 1                 1                 1                 1\n",
       "  1                 0                 0                 0                 0\n",
       "   pred\n",
       "    0.355385822357393 0.367099662132964 0.379123172550729 0.390555358217206\n",
       "  0                 1                 1                 1                 1\n",
       "  1                 0                 0                 0                 0\n",
       "   pred\n",
       "    0.409349908264785 0.4189675493215 0.419681890224595 0.440115772644667\n",
       "  0                 1               1                 1                 1\n",
       "  1                 0               0                 0                 0\n",
       "   pred\n",
       "    0.468406302510715 0.510125666221497 0.54142336042573 0.550055614131575\n",
       "  0                 1                 1                0                 1\n",
       "  1                 0                 0                1                 0\n",
       "   pred\n",
       "    0.562737850203968 0.563414173373676 0.570670446415069 0.580014125039258\n",
       "  0                 1                 1                 0                 1\n",
       "  1                 0                 0                 1                 0\n",
       "   pred\n",
       "    0.5906977451562 0.604972341437502 0.630539978932275 0.645298767364773\n",
       "  0               0                 0                 0                 0\n",
       "  1               1                 1                 1                 1\n",
       "   pred\n",
       "    0.653732945911871 0.655310333323616 0.66020479191064 0.66394584666817\n",
       "  0                 0                 0                1                0\n",
       "  1                 1                 1                0                1\n",
       "   pred\n",
       "    0.684757038737369 0.685772913577223 0.690564382063192 0.699844971403513\n",
       "  0                 1                 0                 0                 0\n",
       "  1                 0                 1                 1                 1\n",
       "   pred\n",
       "    0.723682266311376 0.732386497570459 0.73678410405003 0.746101499118937\n",
       "  0                 0                 0                0                 0\n",
       "  1                 1                 1                1                 1\n",
       "   pred\n",
       "    0.752603505483996 0.756124918916606 0.769316392353837 0.772402835302519\n",
       "  0                 0                 0                 0                 0\n",
       "  1                 1                 1                 1                 1\n",
       "   pred\n",
       "    0.778925408872476 0.784506387893264 0.785477160572594 0.786386910593831\n",
       "  0                 0                 0                 0                 0\n",
       "  1                 1                 1                 1                 1\n",
       "   pred\n",
       "    0.786390393566843 0.789713523364486 0.825880434574393 0.828907031749405\n",
       "  0                 0                 0                 0                 0\n",
       "  1                 1                 1                 1                 1\n",
       "   pred\n",
       "    0.838496612400039 0.840304876330577 0.841598759951133 0.846841157923278\n",
       "  0                 0                 0                 0                 0\n",
       "  1                 1                 1                 1                 1\n",
       "   pred\n",
       "    0.848945359337489 0.859372345330432 0.862844557206013 0.863268106338082\n",
       "  0                 0                 0                 0                 0\n",
       "  1                 1                 1                 1                 1\n",
       "   pred\n",
       "    0.875310301707477 0.876691086631163 0.87735633577815 0.882411887773433\n",
       "  0                 0                 0                0                 0\n",
       "  1                 1                 1                1                 1\n",
       "   pred\n",
       "    0.882786079047445 0.882863856893116 0.891846508841862 0.892100269734313\n",
       "  0                 0                 0                 0                 0\n",
       "  1                 1                 1                 1                 1\n",
       "   pred\n",
       "    0.89681900250232 0.900012300548492 0.900720947211054 0.902529701539447\n",
       "  0                0                 0                 0                 0\n",
       "  1                1                 1                 1                 1\n",
       "   pred\n",
       "    0.904467258377223 0.907596346712507 0.907919472905156 0.909409400357181\n",
       "  0                 0                 0                 0                 0\n",
       "  1                 1                 1                 1                 1\n",
       "   pred\n",
       "    0.909464015115239 0.910268297169655 0.910835307161198 0.911447790497438\n",
       "  0                 0                 0                 0                 0\n",
       "  1                 1                 1                 1                 1\n",
       "   pred\n",
       "    0.911796333752955 0.912733190522699 0.915630635492155 0.916321113619208\n",
       "  0                 0                 0                 0                 0\n",
       "  1                 1                 1                 1                 1\n",
       "   pred\n",
       "    0.916909276902761 0.917111954489081 0.917271714431996 0.920997078456023\n",
       "  0                 0                 0                 0                 0\n",
       "  1                 1                 1                 1                 1\n",
       "   pred\n",
       "    0.921442090370564 0.922030576268598 0.923705728449548 0.92372696391479\n",
       "  0                 0                 0                 0                0\n",
       "  1                 1                 1                 1                1\n",
       "   pred\n",
       "    0.92414700762738 0.924562286339264 0.924850734638329 0.925330906817668\n",
       "  0                0                 0                 0                 0\n",
       "  1                1                 1                 1                 1\n",
       "   pred\n",
       "    0.92568767372614 0.927265457990525 0.928460409400073 0.928765457990525\n",
       "  0                0                 0                 0                 0\n",
       "  1                1                 1                 1                 1\n",
       "   pred\n",
       "    0.929863558198758 0.930055465859213 0.931014801438014 0.932090399576006\n",
       "  0                 0                 0                 0                 0\n",
       "  1                 1                 1                 1                 1\n",
       "   pred\n",
       "    0.934683017422549 0.935981733962564 0.936309940126964 0.937106904078878\n",
       "  0                 0                 0                 0                 0\n",
       "  1                 1                 1                 1                 1\n",
       "   pred\n",
       "    0.938170686802816 0.938649703422486 0.938999472763027 0.93995136937872\n",
       "  0                 0                 0                 0                0\n",
       "  1                 1                 1                 1                1\n",
       "   pred\n",
       "    0.940545961375055 0.941250651161782 0.942888886654646 0.944651744327287\n",
       "  0                 0                 0                 0                 0\n",
       "  1                 1                 1                 1                 1\n",
       "   pred\n",
       "    0.944821939749626 0.945394539675369 0.945405754594872 0.945831194456999\n",
       "  0                 0                 0                 0                 0\n",
       "  1                 1                 1                 1                 1\n",
       "   pred\n",
       "    0.946241062716525 0.946618170348296 0.946787643872259 0.947082370507744\n",
       "  0                 0                 0                 0                 0\n",
       "  1                 1                 1                 1                 1\n",
       "   pred\n",
       "    0.947539465735563 0.947654457098848 0.948129699115702 0.948332105639026\n",
       "  0                 0                 0                 0                 0\n",
       "  1                 1                 1                 1                 1\n",
       "   pred\n",
       "    0.948345480171285 0.948959043682407 0.949662315912387 0.949967669610515\n",
       "  0                 0                 0                 0                 0\n",
       "  1                 1                 1                 1                 1\n",
       "   pred\n",
       "    0.950189149307727 0.950770835085208 0.951164289674441 0.951390934372379\n",
       "  0                 0                 0                 0                 0\n",
       "  1                 1                 1                 1                 1\n",
       "   pred\n",
       "    0.951740392570518 0.951889011482007 0.951913014557996 0.952351315275294\n",
       "  0                 0                 0                 0                 0\n",
       "  1                 1                 1                 1                 1\n",
       "   pred\n",
       "    0.952833760326763 0.953192937844028 0.953902327734441 0.954096275520424\n",
       "  0                 0                 0                 0                 0\n",
       "  1                 1                 1                 1                 1\n",
       "   pred\n",
       "    0.954256867934987 0.954422033100152 0.955468776837124 0.958647294934346\n",
       "  0                 0                 0                 0                 0\n",
       "  1                 1                 1                 2                 1\n",
       "   pred\n",
       "    0.960053493941639 0.96062269083447 0.961100801252685 0.961627599202546\n",
       "  0                 0                0                 0                 0\n",
       "  1                 1                1                 1                 1\n",
       "   pred\n",
       "    0.963259672499693 0.963357960389651 0.96485296002183 0.964969160954995\n",
       "  0                 0                 0                0                 0\n",
       "  1                 1                 1                1                 1\n",
       "   pred\n",
       "    0.965060672322472 0.965065713533387 0.965317365427712 0.965452983825754\n",
       "  0                 0                 0                 0                 0\n",
       "  1                 1                 1                 1                 1\n",
       "   pred\n",
       "    0.965990338908012 0.966645364432776 0.966780739287894 0.967106649333966\n",
       "  0                 0                 0                 0                 0\n",
       "  1                 1                 1                 1                 1\n",
       "   pred\n",
       "    0.967749918329078 0.968622659175839 0.968752736621706 0.969021055466818\n",
       "  0                 0                 0                 0                 0\n",
       "  1                 1                 1                 2                 1\n",
       "   pred\n",
       "    0.97029476978614 0.972334321606869\n",
       "  0                0                 0\n",
       "  1                1                 1"
      ]
     },
     "metadata": {},
     "output_type": "display_data"
    }
   ],
   "source": [
    "pred = predict(model,newdata=testset[-6])\n",
    "\n",
    "cm = table(testset[,6],pred)\n",
    "\n",
    "cm"
   ]
  }
 ],
 "metadata": {
  "kernelspec": {
   "display_name": "R",
   "language": "R",
   "name": "ir"
  },
  "language_info": {
   "codemirror_mode": "r",
   "file_extension": ".r",
   "mimetype": "text/x-r-source",
   "name": "R",
   "pygments_lexer": "r",
   "version": "3.6.1"
  }
 },
 "nbformat": 4,
 "nbformat_minor": 2
}
